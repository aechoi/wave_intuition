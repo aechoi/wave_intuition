{
 "cells": [
  {
   "cell_type": "markdown",
   "metadata": {},
   "source": [
    "This notebook will install numpy and matplotlib in your environment (the only 2 required packages).\n",
    "\n",
    "The visualizer is in the last code block. An explanation is provided as well."
   ]
  },
  {
   "cell_type": "code",
   "execution_count": null,
   "metadata": {},
   "outputs": [],
   "source": [
    "%matplotlib widget\n",
    "import numpy as np\n",
    "import matplotlib.pyplot as plt\n",
    "from matplotlib.widgets import Button, Slider"
   ]
  },
  {
   "cell_type": "code",
   "execution_count": null,
   "metadata": {},
   "outputs": [],
   "source": [
    "t_max = 10\n",
    "z_max = 10\n",
    "samples = 1000\n",
    "t = np.linspace(0, t_max, samples)\n",
    "z = np.linspace(0, z_max, samples//2)\n",
    "T, Z = np.meshgrid(t, z)\n",
    "\n",
    "omega = 1\n",
    "b = 2\n",
    "phi_factor = 3\n",
    "phi = np.pi/phi_factor\n",
    "V = np.cos(omega*T - b*Z + phi)"
   ]
  },
  {
   "cell_type": "code",
   "execution_count": null,
   "metadata": {},
   "outputs": [],
   "source": [
    "fig = plt.figure(figsize=(12,5))\n",
    "ax_surf = fig.add_subplot(1, 2, 1, projection=\"3d\")\n",
    "ax_cross = fig.add_subplot(1, 2, 2)\n",
    "ax_surf.set_xlabel(\"Time (s)\")\n",
    "ax_surf.set_ylabel(\"Distance (m)\")\n",
    "ax_surf.set_zlabel(\"Amplitude\")\n",
    "title = r\"$V=\\cos (\\omega t - bz + \\phi)$\" + \"\\n\" + fr\"$\\omega={omega}, b={b}, \\phi=\\pi/{phi_factor}$\"\n",
    "ax_surf.set_title(title)\n",
    "ax_surf.view_init(elev=55, azim=-45)\n",
    "\n",
    "ax_cross.set_xlabel(\"Distance (m)\")\n",
    "ax_cross.set_ylabel(\"Amplitude\")\n",
    "ax_cross.set_title(\"Snapshot in Time\")\n",
    "\n",
    "t_init = 0\n",
    "z_init = phi/b\n",
    "z_idx = np.argmin(np.abs(z-z_init))\n",
    "ax_surf.plot_surface(T, Z, V, alpha=0.2)\n",
    "plane_v = np.linspace(-1.5, 1.5, 2)\n",
    "plane_z = np.linspace(0, z_max, 2)\n",
    "PLANE_V, PLANE_Z = np.meshgrid(plane_v, plane_z)\n",
    "PLANE_T = np.zeros_like(PLANE_V) + t[t_init]\n",
    "surf_plane = [ax_surf.plot_surface(PLANE_T, PLANE_Z, PLANE_V, alpha=0.3, color=\"k\")]\n",
    "surf_cross, = ax_surf.plot(np.ones_like(z)*t[t_init], z, V[:, t_init], color=\"r\")\n",
    "surf_cross_space, = ax_surf.plot(t, np.ones_like(t)*z_init, V[z_idx, :], color=\"g\")\n",
    "\n",
    "cross_plot, = ax_cross.plot(z, V[:, t_init], color=\"r\")\n",
    "\n",
    "iso_line, = ax_surf.plot([0, t_max], [phi/b, phi/b + t_max*omega/b], [1, 1], color=\"k\")\n",
    "rise, = ax_surf.plot([2*np.pi/omega, 2*np.pi/omega], [phi/b, phi/b + 2*np.pi/b], [1, 1], color=\"k\", linestyle=\"--\", label=\"Spatial Period\")\n",
    "run, = ax_surf.plot([0, 2*np.pi/omega], [phi/b, phi/b], [1, 1], color=\"k\", linestyle=\":\", label=\"Temporal Period\")\n",
    "dot, = ax_cross.plot(phi/b + t_init*omega/b, 1, \"ko\")\n",
    "\n",
    "ax_surf.legend(loc=\"upper right\")\n",
    "\n",
    "axtime = fig.add_axes([0.25, 0, 0.65, 0.03])\n",
    "time_slider = Slider(\n",
    "    ax=axtime,\n",
    "    label=\"Time (s)\",\n",
    "    valmin=0,\n",
    "    valmax=t_max,\n",
    "    valinit=t_init\n",
    ")\n",
    "def slider_update(val):\n",
    "    time_idx = np.argmin(np.abs(t - val))\n",
    "    z_val = phi/b + val*omega/b\n",
    "    z_idx = np.argmin(np.abs(z - z_val))\n",
    "    cross_plot.set_ydata(V[:, time_idx])\n",
    "    dot.set_xdata([z_val])\n",
    "    PLANE_T = np.zeros_like(PLANE_V) + t[time_idx]\n",
    "    surf_plane[0].remove()\n",
    "    surf_plane[0] = ax_surf.plot_surface(PLANE_T, PLANE_Z, PLANE_V, alpha=0.3, color=\"k\")\n",
    "    surf_cross.set_data_3d(np.ones_like(z)*t[time_idx], z, V[:, time_idx])\n",
    "    surf_cross_space.set_data_3d(t, np.ones_like(t)*z[z_idx], V[z_idx, :])\n",
    "    fig.canvas.draw_idle()\n",
    "\n",
    "# register the update function with each slider\n",
    "time_slider.on_changed(slider_update)\n",
    "\n",
    "# Create a `matplotlib.widgets.Button` to reset the sliders to initial values.\n",
    "resetax = fig.add_axes([0.0, 0.025, 0.1, 0.04])\n",
    "button = Button(resetax, 'Reset View', hovercolor='0.975')\n",
    "\n",
    "\n",
    "def reset(event):\n",
    "    ax_surf.view_init(elev=55, azim=-45)\n",
    "\n",
    "button.on_clicked(reset)\n",
    "plt.tight_layout()"
   ]
  },
  {
   "cell_type": "markdown",
   "metadata": {},
   "source": [
    "# Explanation\n",
    "\n",
    "The plot on the left shows the space-time surface of the wave with time on one axis and spatial distance on the other. The plot on the right shows the wave at a particular snapshot in time. This snapshot is equivalent to a cross-section of the space-time surface at a particular point in time (denoted by the plane in the space-time plot).\n",
    "\n",
    "When the full space-time plot of the sinusoidal voltage wave is plotted in 3D, it's easy to track the velocity of the phase by looking at a particular peak as it evolves through time (the solid black line). This phase velocity, $u_p$, can simply be calculated by finding the slope (rise over run) which is defined by the spatial and temporal periods respectively. \n",
    "\n",
    "We know the spatial period, $\\lambda$, is $\\frac{2\\pi}{\\beta}$ while the temporal period, $T$, is $\\frac{2\\pi}{\\omega}$. Dividing the two results in $u_p = \\frac{\\lambda}{T} = \\frac{2\\pi/\\beta}{2\\pi/\\omega} = \\frac{\\omega}{\\beta}$"
   ]
  }
 ],
 "metadata": {
  "kernelspec": {
   "display_name": "venv",
   "language": "python",
   "name": "python3"
  },
  "language_info": {
   "codemirror_mode": {
    "name": "ipython",
    "version": 3
   },
   "file_extension": ".py",
   "mimetype": "text/x-python",
   "name": "python",
   "nbconvert_exporter": "python",
   "pygments_lexer": "ipython3",
   "version": "3.12.3"
  }
 },
 "nbformat": 4,
 "nbformat_minor": 2
}
